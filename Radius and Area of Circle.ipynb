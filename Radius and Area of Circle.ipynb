{
 "cells": [
  {
   "cell_type": "code",
   "execution_count": 1,
   "id": "ac6038da",
   "metadata": {},
   "outputs": [
    {
     "name": "stdout",
     "output_type": "stream",
     "text": [
      "Radius Of Circle is = 4\n",
      "Area of circle is = 50.26544\n"
     ]
    }
   ],
   "source": [
    "r = float(input(\"Radius Of Circle is = \"))\n",
    "A = 3.14159 * r * r\n",
    "print(\"Area of circle is =\", A)"
   ]
  },
  {
   "cell_type": "code",
   "execution_count": null,
   "id": "40220d01",
   "metadata": {},
   "outputs": [],
   "source": []
  }
 ],
 "metadata": {
  "kernelspec": {
   "display_name": "Python 3",
   "language": "python",
   "name": "python3"
  },
  "language_info": {
   "codemirror_mode": {
    "name": "ipython",
    "version": 3
   },
   "file_extension": ".py",
   "mimetype": "text/x-python",
   "name": "python",
   "nbconvert_exporter": "python",
   "pygments_lexer": "ipython3",
   "version": "3.8.8"
  }
 },
 "nbformat": 4,
 "nbformat_minor": 5
}
