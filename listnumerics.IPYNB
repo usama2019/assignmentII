mix_list=['12','usman','usama','23','3','6','ali','match','7']
numbers = []
result=0
for item in mix_list:
    if(item.isdigit()):
        numbers.append(int(item))
print(numbers)
for no in numbers:
    result=no+result
print("result is: ",result)