{
 "cells": [
  {
   "cell_type": "code",
   "execution_count": 2,
   "id": "8d14387e",
   "metadata": {},
   "outputs": [
    {
     "name": "stdout",
     "output_type": "stream",
     "text": [
      "Number of items in the list =  7\n"
     ]
    }
   ],
   "source": [
    "Listname = [\"Hello\", \"Usama\", \"Arsalan\", 1, 2, 3, 4]\n",
    "print (\"Number of items in the list = \", len(Listname))"
   ]
  },
  {
   "cell_type": "code",
   "execution_count": null,
   "id": "7d3763be",
   "metadata": {},
   "outputs": [],
   "source": []
  }
 ],
 "metadata": {
  "kernelspec": {
   "display_name": "Python 3",
   "language": "python",
   "name": "python3"
  },
  "language_info": {
   "codemirror_mode": {
    "name": "ipython",
    "version": 3
   },
   "file_extension": ".py",
   "mimetype": "text/x-python",
   "name": "python",
   "nbconvert_exporter": "python",
   "pygments_lexer": "ipython3",
   "version": "3.8.8"
  }
 },
 "nbformat": 4,
 "nbformat_minor": 5
}
