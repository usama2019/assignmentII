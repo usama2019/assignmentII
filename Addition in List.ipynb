{
 "cells": [
  {
   "cell_type": "code",
   "execution_count": 1,
   "id": "032f27d4",
   "metadata": {},
   "outputs": [
    {
     "name": "stdout",
     "output_type": "stream",
     "text": [
      "[12, 23, 3, 6, 7]\n",
      "result is:  51\n"
     ]
    }
   ],
   "source": [
    "mix_list=['12','usman','usama','23','3','6','ali','match','7']\n",
    "numbers = []\n",
    "result=0\n",
    "for item in mix_list:\n",
    "    if(item.isdigit()):\n",
    "        numbers.append(int(item))\n",
    "print(numbers)\n",
    "for no in numbers:\n",
    "    result=no+result\n",
    "print(\"result is: \",result)"
   ]
  },
  {
   "cell_type": "code",
   "execution_count": null,
   "id": "603bc23c",
   "metadata": {},
   "outputs": [],
   "source": []
  }
 ],
 "metadata": {
  "kernelspec": {
   "display_name": "Python 3",
   "language": "python",
   "name": "python3"
  },
  "language_info": {
   "codemirror_mode": {
    "name": "ipython",
    "version": 3
   },
   "file_extension": ".py",
   "mimetype": "text/x-python",
   "name": "python",
   "nbconvert_exporter": "python",
   "pygments_lexer": "ipython3",
   "version": "3.8.8"
  }
 },
 "nbformat": 4,
 "nbformat_minor": 5
}
